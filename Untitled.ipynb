{
 "cells": [
  {
   "cell_type": "code",
   "execution_count": 3,
   "id": "723860ed-aecc-4ab0-9611-1239443f7f78",
   "metadata": {},
   "outputs": [],
   "source": [
    "#Isso é um escalar\n",
    "a <- 2"
   ]
  },
  {
   "cell_type": "code",
   "execution_count": null,
   "id": "91c9afad-5f6d-4b63-8b8a-f7aeb57b493a",
   "metadata": {},
   "outputs": [],
   "source": []
  }
 ],
 "metadata": {
  "kernelspec": {
   "display_name": "R",
   "language": "R",
   "name": "ir"
  },
  "language_info": {
   "codemirror_mode": "r",
   "file_extension": ".r",
   "mimetype": "text/x-r-source",
   "name": "R",
   "pygments_lexer": "r",
   "version": "4.1.3"
  }
 },
 "nbformat": 4,
 "nbformat_minor": 5
}
